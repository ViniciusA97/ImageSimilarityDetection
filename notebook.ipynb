{
 "cells": [
  {
   "cell_type": "markdown",
   "id": "crucial-yacht",
   "metadata": {},
   "source": [
    "# Image Scraping"
   ]
  },
  {
   "cell_type": "markdown",
   "id": "municipal-trademark",
   "metadata": {},
   "source": [
    "Primeiro, importamos as bibliotecas"
   ]
  },
  {
   "cell_type": "code",
   "execution_count": 2,
   "id": "changed-spelling",
   "metadata": {},
   "outputs": [
    {
     "output_type": "stream",
     "name": "stdout",
     "text": [
      "Requirement already satisfied: lxml in c:\\users\\niciu\\appdata\\local\\programs\\python\\python39\\lib\\site-packages (4.6.3)\n",
      "Requirement already satisfied: requests in c:\\users\\niciu\\appdata\\local\\programs\\python\\python39\\lib\\site-packages (2.25.1)\n",
      "Requirement already satisfied: chardet<5,>=3.0.2 in c:\\users\\niciu\\appdata\\local\\programs\\python\\python39\\lib\\site-packages (from requests) (4.0.0)\n",
      "Requirement already satisfied: idna<3,>=2.5 in c:\\users\\niciu\\appdata\\local\\programs\\python\\python39\\lib\\site-packages (from requests) (2.10)\n",
      "Requirement already satisfied: urllib3<1.27,>=1.21.1 in c:\\users\\niciu\\appdata\\local\\programs\\python\\python39\\lib\\site-packages (from requests) (1.26.5)\n",
      "Requirement already satisfied: certifi>=2017.4.17 in c:\\users\\niciu\\appdata\\local\\programs\\python\\python39\\lib\\site-packages (from requests) (2021.5.30)\n",
      "Requirement already satisfied: selenium in c:\\users\\niciu\\appdata\\local\\programs\\python\\python39\\lib\\site-packages (3.141.0)\n",
      "Requirement already satisfied: urllib3 in c:\\users\\niciu\\appdata\\local\\programs\\python\\python39\\lib\\site-packages (from selenium) (1.26.5)\n",
      "Requirement already satisfied: bs4 in c:\\users\\niciu\\appdata\\local\\programs\\python\\python39\\lib\\site-packages (0.0.1)\n",
      "Requirement already satisfied: beautifulsoup4 in c:\\users\\niciu\\appdata\\local\\programs\\python\\python39\\lib\\site-packages (from bs4) (4.9.3)\n",
      "Requirement already satisfied: soupsieve>1.2 in c:\\users\\niciu\\appdata\\local\\programs\\python\\python39\\lib\\site-packages (from beautifulsoup4->bs4) (2.2.1)\n",
      "Requirement already satisfied: pandas in c:\\users\\niciu\\appdata\\local\\programs\\python\\python39\\lib\\site-packages (1.2.5)\n",
      "Requirement already satisfied: python-dateutil>=2.7.3 in c:\\users\\niciu\\appdata\\roaming\\python\\python39\\site-packages (from pandas) (2.8.1)\n",
      "Requirement already satisfied: pytz>=2017.3 in c:\\users\\niciu\\appdata\\local\\programs\\python\\python39\\lib\\site-packages (from pandas) (2021.1)\n",
      "Requirement already satisfied: numpy>=1.16.5 in c:\\users\\niciu\\appdata\\local\\programs\\python\\python39\\lib\\site-packages (from pandas) (1.19.5)\n",
      "Requirement already satisfied: six>=1.5 in c:\\users\\niciu\\appdata\\local\\programs\\python\\python39\\lib\\site-packages (from python-dateutil>=2.7.3->pandas) (1.15.0)\n",
      "Requirement already satisfied: Pillow in c:\\users\\niciu\\appdata\\local\\programs\\python\\python39\\lib\\site-packages (8.2.0)\n",
      "Collecting annoy\n",
      "  Using cached annoy-1.17.0.tar.gz (646 kB)\n",
      "Building wheels for collected packages: annoy\n",
      "  Building wheel for annoy (setup.py): started\n",
      "  Building wheel for annoy (setup.py): finished with status 'error'\n",
      "  Running setup.py clean for annoy\n",
      "Failed to build annoy\n",
      "Installing collected packages: annoy\n",
      "    Running setup.py install for annoy: started\n",
      "    Running setup.py install for annoy: finished with status 'error'\n",
      "  ERROR: Command errored out with exit status 1:\n",
      "   command: 'c:\\users\\niciu\\appdata\\local\\programs\\python\\python39\\python.exe' -u -c 'import io, os, sys, setuptools, tokenize; sys.argv[0] = '\"'\"'C:\\\\Users\\\\niciu\\\\AppData\\\\Local\\\\Temp\\\\pip-install-l7132r21\\\\annoy_071bd3c943e14f3d822d239b3c07366b\\\\setup.py'\"'\"'; __file__='\"'\"'C:\\\\Users\\\\niciu\\\\AppData\\\\Local\\\\Temp\\\\pip-install-l7132r21\\\\annoy_071bd3c943e14f3d822d239b3c07366b\\\\setup.py'\"'\"';f = getattr(tokenize, '\"'\"'open'\"'\"', open)(__file__) if os.path.exists(__file__) else io.StringIO('\"'\"'from setuptools import setup; setup()'\"'\"');code = f.read().replace('\"'\"'\\r\\n'\"'\"', '\"'\"'\\n'\"'\"');f.close();exec(compile(code, __file__, '\"'\"'exec'\"'\"'))' bdist_wheel -d 'C:\\Users\\niciu\\AppData\\Local\\Temp\\pip-wheel-fmcn9yzu'\n",
      "       cwd: C:\\Users\\niciu\\AppData\\Local\\Temp\\pip-install-l7132r21\\annoy_071bd3c943e14f3d822d239b3c07366b\\\n",
      "  Complete output (10 lines):\n",
      "  running bdist_wheel\n",
      "  running build\n",
      "  running build_py\n",
      "  creating build\n",
      "  creating build\\lib.win-amd64-3.9\n",
      "  creating build\\lib.win-amd64-3.9\\annoy\n",
      "  copying annoy\\__init__.py -> build\\lib.win-amd64-3.9\\annoy\n",
      "  running build_ext\n",
      "  building 'annoy.annoylib' extension\n",
      "  error: Microsoft Visual C++ 14.0 or greater is required. Get it with \"Microsoft C++ Build Tools\": https://visualstudio.microsoft.com/visual-cpp-build-tools/\n",
      "  ----------------------------------------\n",
      "  ERROR: Failed building wheel for annoy\n",
      "    ERROR: Command errored out with exit status 1:\n",
      "     command: 'c:\\users\\niciu\\appdata\\local\\programs\\python\\python39\\python.exe' -u -c 'import io, os, sys, setuptools, tokenize; sys.argv[0] = '\"'\"'C:\\\\Users\\\\niciu\\\\AppData\\\\Local\\\\Temp\\\\pip-install-l7132r21\\\\annoy_071bd3c943e14f3d822d239b3c07366b\\\\setup.py'\"'\"'; __file__='\"'\"'C:\\\\Users\\\\niciu\\\\AppData\\\\Local\\\\Temp\\\\pip-install-l7132r21\\\\annoy_071bd3c943e14f3d822d239b3c07366b\\\\setup.py'\"'\"';f = getattr(tokenize, '\"'\"'open'\"'\"', open)(__file__) if os.path.exists(__file__) else io.StringIO('\"'\"'from setuptools import setup; setup()'\"'\"');code = f.read().replace('\"'\"'\\r\\n'\"'\"', '\"'\"'\\n'\"'\"');f.close();exec(compile(code, __file__, '\"'\"'exec'\"'\"'))' install --record 'C:\\Users\\niciu\\AppData\\Local\\Temp\\pip-record-wt1eabeb\\install-record.txt' --single-version-externally-managed --user --prefix= --compile --install-headers 'C:\\Users\\niciu\\AppData\\Roaming\\Python\\Python39\\Include\\annoy'\n",
      "         cwd: C:\\Users\\niciu\\AppData\\Local\\Temp\\pip-install-l7132r21\\annoy_071bd3c943e14f3d822d239b3c07366b\\\n",
      "    Complete output (10 lines):\n",
      "    running install\n",
      "    running build\n",
      "    running build_py\n",
      "    creating build\n",
      "    creating build\\lib.win-amd64-3.9\n",
      "    creating build\\lib.win-amd64-3.9\\annoy\n",
      "    copying annoy\\__init__.py -> build\\lib.win-amd64-3.9\\annoy\n",
      "    running build_ext\n",
      "    building 'annoy.annoylib' extension\n",
      "    error: Microsoft Visual C++ 14.0 or greater is required. Get it with \"Microsoft C++ Build Tools\": https://visualstudio.microsoft.com/visual-cpp-build-tools/\n",
      "    ----------------------------------------\n",
      "ERROR: Command errored out with exit status 1: 'c:\\users\\niciu\\appdata\\local\\programs\\python\\python39\\python.exe' -u -c 'import io, os, sys, setuptools, tokenize; sys.argv[0] = '\"'\"'C:\\\\Users\\\\niciu\\\\AppData\\\\Local\\\\Temp\\\\pip-install-l7132r21\\\\annoy_071bd3c943e14f3d822d239b3c07366b\\\\setup.py'\"'\"'; __file__='\"'\"'C:\\\\Users\\\\niciu\\\\AppData\\\\Local\\\\Temp\\\\pip-install-l7132r21\\\\annoy_071bd3c943e14f3d822d239b3c07366b\\\\setup.py'\"'\"';f = getattr(tokenize, '\"'\"'open'\"'\"', open)(__file__) if os.path.exists(__file__) else io.StringIO('\"'\"'from setuptools import setup; setup()'\"'\"');code = f.read().replace('\"'\"'\\r\\n'\"'\"', '\"'\"'\\n'\"'\"');f.close();exec(compile(code, __file__, '\"'\"'exec'\"'\"'))' install --record 'C:\\Users\\niciu\\AppData\\Local\\Temp\\pip-record-wt1eabeb\\install-record.txt' --single-version-externally-managed --user --prefix= --compile --install-headers 'C:\\Users\\niciu\\AppData\\Roaming\\Python\\Python39\\Include\\annoy' Check the logs for full command output.\n"
     ]
    }
   ],
   "source": [
    "!pip install lxml\n",
    "!pip install requests\n",
    "!pip install selenium\n",
    "!pip install bs4\n",
    "!pip install pandas\n",
    "!pip install Pillow\n",
    "!pip install --user annoy"
   ]
  },
  {
   "cell_type": "code",
   "execution_count": 3,
   "id": "female-cooperative",
   "metadata": {},
   "outputs": [],
   "source": [
    "import requests\n",
    "import pandas as pd\n",
    "from bs4 import BeautifulSoup"
   ]
  },
  {
   "cell_type": "code",
   "execution_count": 4,
   "id": "superb-invention",
   "metadata": {},
   "outputs": [],
   "source": [
    "# download wikipage\n",
    "wikipage = \"https://en.wikipedia.org/wiki/List_of_sovereign_states_and_dependent_territories_by_continent_(data_file)\"\n",
    "result = requests.get(wikipage)\n",
    "\n",
    "# if successful parse the download into a BeautifulSoup object, which allows easy manipulation \n",
    "if result.status_code == 200:\n",
    "    soup = BeautifulSoup(result.content, \"html.parser\")"
   ]
  },
  {
   "cell_type": "code",
   "execution_count": 5,
   "id": "latin-information",
   "metadata": {},
   "outputs": [],
   "source": [
    "# find the object with HTML class wikitable sortable\n",
    "table = soup.find('table',{'class':'wikitable sortable'})\n",
    "\n",
    "# loop through all the rows and pull the text\n",
    "new_table = []\n",
    "for row in table.find_all('tr')[1:]:\n",
    "    column_marker = 0\n",
    "    columns = row.find_all('td')\n",
    "    new_table.append([column.get_text() for column in columns])"
   ]
  },
  {
   "cell_type": "code",
   "execution_count": 6,
   "id": "colored-briefing",
   "metadata": {},
   "outputs": [],
   "source": [
    "df = pd.DataFrame(new_table, columns=['ContinentCode','Alpha2','Alpha3','PhoneCode','Name'])\n",
    "df['Name'] = df['Name'].str.replace('\\n','')"
   ]
  },
  {
   "cell_type": "code",
   "execution_count": 7,
   "id": "independent-experience",
   "metadata": {},
   "outputs": [
    {
     "output_type": "execute_result",
     "data": {
      "text/plain": [
       "    ContinentCode Alpha2 Alpha3 PhoneCode  \\\n",
       "0              AS     AF    AFG       004   \n",
       "1              EU     AL    ALB       008   \n",
       "2              AN     AQ    ATA       010   \n",
       "3              AF     DZ    DZA       012   \n",
       "4              OC     AS    ASM       016   \n",
       "..            ...    ...    ...       ...   \n",
       "257            AS     YE    YEM       887   \n",
       "258            AF     ZM    ZMB       894   \n",
       "259            AS     XD   null      null   \n",
       "260            AS     XS   null      null   \n",
       "261            OC     XX   null      null   \n",
       "\n",
       "                                             Name  \n",
       "0                Afghanistan, Islamic Republic of  \n",
       "1                            Albania, Republic of  \n",
       "2    Antarctica (the territory South of 60 deg S)  \n",
       "3        Algeria, People's Democratic Republic of  \n",
       "4                                  American Samoa  \n",
       "..                                            ...  \n",
       "257                                         Yemen  \n",
       "258                           Zambia, Republic of  \n",
       "259                   United Nations Neutral Zone  \n",
       "260                               Spratly Islands  \n",
       "261                            Disputed Territory  \n",
       "\n",
       "[262 rows x 5 columns]"
      ],
      "text/html": "<div>\n<style scoped>\n    .dataframe tbody tr th:only-of-type {\n        vertical-align: middle;\n    }\n\n    .dataframe tbody tr th {\n        vertical-align: top;\n    }\n\n    .dataframe thead th {\n        text-align: right;\n    }\n</style>\n<table border=\"1\" class=\"dataframe\">\n  <thead>\n    <tr style=\"text-align: right;\">\n      <th></th>\n      <th>ContinentCode</th>\n      <th>Alpha2</th>\n      <th>Alpha3</th>\n      <th>PhoneCode</th>\n      <th>Name</th>\n    </tr>\n  </thead>\n  <tbody>\n    <tr>\n      <th>0</th>\n      <td>AS</td>\n      <td>AF</td>\n      <td>AFG</td>\n      <td>004</td>\n      <td>Afghanistan, Islamic Republic of</td>\n    </tr>\n    <tr>\n      <th>1</th>\n      <td>EU</td>\n      <td>AL</td>\n      <td>ALB</td>\n      <td>008</td>\n      <td>Albania, Republic of</td>\n    </tr>\n    <tr>\n      <th>2</th>\n      <td>AN</td>\n      <td>AQ</td>\n      <td>ATA</td>\n      <td>010</td>\n      <td>Antarctica (the territory South of 60 deg S)</td>\n    </tr>\n    <tr>\n      <th>3</th>\n      <td>AF</td>\n      <td>DZ</td>\n      <td>DZA</td>\n      <td>012</td>\n      <td>Algeria, People's Democratic Republic of</td>\n    </tr>\n    <tr>\n      <th>4</th>\n      <td>OC</td>\n      <td>AS</td>\n      <td>ASM</td>\n      <td>016</td>\n      <td>American Samoa</td>\n    </tr>\n    <tr>\n      <th>...</th>\n      <td>...</td>\n      <td>...</td>\n      <td>...</td>\n      <td>...</td>\n      <td>...</td>\n    </tr>\n    <tr>\n      <th>257</th>\n      <td>AS</td>\n      <td>YE</td>\n      <td>YEM</td>\n      <td>887</td>\n      <td>Yemen</td>\n    </tr>\n    <tr>\n      <th>258</th>\n      <td>AF</td>\n      <td>ZM</td>\n      <td>ZMB</td>\n      <td>894</td>\n      <td>Zambia, Republic of</td>\n    </tr>\n    <tr>\n      <th>259</th>\n      <td>AS</td>\n      <td>XD</td>\n      <td>null</td>\n      <td>null</td>\n      <td>United Nations Neutral Zone</td>\n    </tr>\n    <tr>\n      <th>260</th>\n      <td>AS</td>\n      <td>XS</td>\n      <td>null</td>\n      <td>null</td>\n      <td>Spratly Islands</td>\n    </tr>\n    <tr>\n      <th>261</th>\n      <td>OC</td>\n      <td>XX</td>\n      <td>null</td>\n      <td>null</td>\n      <td>Disputed Territory</td>\n    </tr>\n  </tbody>\n</table>\n<p>262 rows × 5 columns</p>\n</div>"
     },
     "metadata": {},
     "execution_count": 7
    }
   ],
   "source": [
    "df"
   ]
  },
  {
   "cell_type": "code",
   "execution_count": null,
   "id": "expected-theorem",
   "metadata": {},
   "outputs": [],
   "source": []
  }
 ],
 "metadata": {
  "kernelspec": {
   "name": "python3",
   "display_name": "Python 3.9.5 64-bit"
  },
  "language_info": {
   "codemirror_mode": {
    "name": "ipython",
    "version": 3
   },
   "file_extension": ".py",
   "mimetype": "text/x-python",
   "name": "python",
   "nbconvert_exporter": "python",
   "pygments_lexer": "ipython3",
   "version": "3.9.5"
  },
  "interpreter": {
   "hash": "a8e777f03abc83fd83ba2a34f88c373cdb67d95a9e1701cfb895124133914a1e"
  }
 },
 "nbformat": 4,
 "nbformat_minor": 5
}